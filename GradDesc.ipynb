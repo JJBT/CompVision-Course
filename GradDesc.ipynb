{
 "cells": [
  {
   "cell_type": "markdown",
   "metadata": {
    "colab_type": "text",
    "id": "BnCxKPTPFjfv"
   },
   "source": [
    "# **Модификации градиентного спуска**\n"
   ]
  },
  {
   "cell_type": "markdown",
   "metadata": {
    "colab_type": "text",
    "id": "IpzD8KTYFjrX"
   },
   "source": [
    "## *Градиентный спуск с импульсом*\n",
    "*Метод катящегося шара*"
   ]
  },
  {
   "cell_type": "markdown",
   "metadata": {
    "colab_type": "text",
    "id": "XnAq5D3lFjzo"
   },
   "source": [
    " \\begin{cases} \\frac{\\partial V}{\\partial t} = \\frac{1}{m} (F + F_{тр}) = -\\frac{1}{m} \\nabla f - \\frac{1}{m} \\eta v \\\\ \\frac{\\partial X}{\\partial t} = V \\end{cases}\n",
    " "
   ]
  },
  {
   "cell_type": "markdown",
   "metadata": {
    "colab_type": "text",
    "id": "Ifp5xPhuFj6I"
   },
   "source": [
    "\\begin{cases} w^{t + 1} = w^t + \\alpha v^t \\\\ \n",
    "v^{t + 1} = \\beta v^t - \\nabla f(w^t + \\alpha v^t) \\end{cases}\n",
    "$$v^0 = 0$$"
   ]
  },
  {
   "cell_type": "markdown",
   "metadata": {
    "colab_type": "text",
    "id": "ErisuaBMFkAh"
   },
   "source": [
    "## *Экспоненциальное скользящее среднее*\n",
    "*Exponential moving average*"
   ]
  },
  {
   "cell_type": "markdown",
   "metadata": {
    "colab_type": "text",
    "id": "rgdE0cPCFkGR"
   },
   "source": [
    "$$w^{t + 1} = w^t - \\alpha \\cdot EMA_p(\\nabla f)^t$$\n"
   ]
  },
  {
   "cell_type": "markdown",
   "metadata": {
    "colab_type": "text",
    "id": "F6-aw-pbFkMZ"
   },
   "source": [
    "$$EMA_p (f)^t = (1 - p) \\cdot f^t + p \\cdot EMA_p(f)^{t-1}$$"
   ]
  },
  {
   "cell_type": "markdown",
   "metadata": {
    "colab_type": "text",
    "id": "CbdW07_sJU1U"
   },
   "source": [
    "## **Rprop**"
   ]
  },
  {
   "cell_type": "markdown",
   "metadata": {
    "colab_type": "text",
    "id": "HUnRvrxhJUuK"
   },
   "source": [
    "*Учитывается только знак градиента* \n",
    "\n",
    "*Идея: расчитывать  learning rate индивидуально для каждого параметра*"
   ]
  },
  {
   "cell_type": "markdown",
   "metadata": {
    "colab_type": "text",
    "id": "5IcbXvTTJUoZ"
   },
   "source": [
    "$$w_i^{t +1} - \\alpha_i^t \\cdot sign(\\nabla f_i(w^t))$$"
   ]
  },
  {
   "cell_type": "markdown",
   "metadata": {
    "colab_type": "text",
    "id": "puMPttFLJUhG"
   },
   "source": [
    "$$\\alpha_i^{t + 1} = \\begin{cases} 1,2 \\cdot \\alpha^t & if & sign(\\nabla f_i(w^t) \\cdot \\nabla f_i (w^{t - 1})) > 0 \\\\\n",
    "0,6 \\cdot \\alpha^t & if & sign(\\nabla f_i(w^t) \\cdot \\nabla f_i (w^{t - 1})) \\leqslant 0\\end{cases}$$"
   ]
  },
  {
   "cell_type": "markdown",
   "metadata": {
    "colab_type": "text",
    "id": "sEBKKwSwFkTS"
   },
   "source": [
    "## **RMSProp**\n",
    "*Значение градиента большое $\\rightarrow$ шаг градиента небольшой \\\n",
    "Значение градиента маленькое $\\rightarrow$ шаг градиента большой*"
   ]
  },
  {
   "cell_type": "markdown",
   "metadata": {
    "colab_type": "text",
    "id": "3cormq4aFkaE"
   },
   "source": [
    "$$w_i^{t +1} - \\alpha_i^t \\frac{\\nabla f(w^t)}{\\sqrt{EMA(\\nabla f^2)^t}} $$"
   ]
  },
  {
   "cell_type": "markdown",
   "metadata": {
    "colab_type": "text",
    "id": "zsxd_RtnFkhr"
   },
   "source": [
    "## **Adam**\n",
    "*Оптимальные параметры:* \n",
    "\n",
    "$\\alpha = 3\\cdot 10^{-4} \\\\\n",
    " \\beta_1 = 0.9 \\\\\n",
    " \\beta_2 = 0.99$"
   ]
  },
  {
   "cell_type": "markdown",
   "metadata": {
    "colab_type": "text",
    "id": "pTkbiHHSPeGU"
   },
   "source": [
    "$$w^{t + 1} = w^t - \\alpha \\frac{EMA_{\\beta_1}(\\nabla f)^t}{\\sqrt{EMA_{\\beta_2}(\\nabla f^2)^t} + \\varepsilon}$$"
   ]
  }
 ],
 "metadata": {
  "colab": {
   "collapsed_sections": [],
   "name": "GradDesc.ipynb",
   "provenance": [],
   "version": "0.3.2"
  },
  "kernelspec": {
   "display_name": "Python 3",
   "language": "python",
   "name": "python3"
  },
  "language_info": {
   "codemirror_mode": {
    "name": "ipython",
    "version": 3
   },
   "file_extension": ".py",
   "mimetype": "text/x-python",
   "name": "python",
   "nbconvert_exporter": "python",
   "pygments_lexer": "ipython3",
   "version": "3.6.1"
  },
  "toc": {
   "base_numbering": 1,
   "nav_menu": {},
   "number_sections": true,
   "sideBar": true,
   "skip_h1_title": false,
   "title_cell": "Table of Contents",
   "title_sidebar": "Contents",
   "toc_cell": false,
   "toc_position": {},
   "toc_section_display": true,
   "toc_window_display": false
  },
  "varInspector": {
   "cols": {
    "lenName": 16,
    "lenType": 16,
    "lenVar": 40
   },
   "kernels_config": {
    "python": {
     "delete_cmd_postfix": "",
     "delete_cmd_prefix": "del ",
     "library": "var_list.py",
     "varRefreshCmd": "print(var_dic_list())"
    },
    "r": {
     "delete_cmd_postfix": ") ",
     "delete_cmd_prefix": "rm(",
     "library": "var_list.r",
     "varRefreshCmd": "cat(var_dic_list()) "
    }
   },
   "types_to_exclude": [
    "module",
    "function",
    "builtin_function_or_method",
    "instance",
    "_Feature"
   ],
   "window_display": false
  }
 },
 "nbformat": 4,
 "nbformat_minor": 1
}
