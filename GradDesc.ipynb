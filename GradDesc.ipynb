{
 "cells": [
  {
   "cell_type": "markdown",
   "metadata": {
    "id": "BnCxKPTPFjfv",
    "colab_type": "text"
   },
   "source": [
    "# **Модификации градиентного спуска**\n"
   ]
  },
  {
   "cell_type": "markdown",
   "metadata": {
    "id": "IpzD8KTYFjrX",
    "colab_type": "text"
   },
   "source": [
    "## *Градиентный спуск с импульсом*\n",
    "*Метод катящегося шара*"
   ]
  },
  {
   "cell_type": "markdown",
   "metadata": {
    "id": "XnAq5D3lFjzo",
    "colab_type": "text"
   },
   "source": [
    " \\begin{cases} \\frac{\\partial V}{\\partial t} = \\frac{1}{m} (F + F_{тр}) = -\\frac{1}{m} \\nabla f - \\frac{1}{m} \\eta v \\\\ \\frac{\\partial X}{\\partial t} = V \\end{cases}\n",
    " "
   ]
  },
  {
   "cell_type": "markdown",
   "metadata": {
    "id": "Ifp5xPhuFj6I",
    "colab_type": "text"
   },
   "source": [
    "\\begin{cases} w^{t + 1} = w^t + \\alpha v^t \\\\ \n",
    "v^{t + 1} = \\beta v^t - \\nabla f(w^t + \\alpha v^t) \\end{cases}\n",
    "$$v^0 = 0$$"
   ]
  },
  {
   "cell_type": "markdown",
   "metadata": {
    "id": "ErisuaBMFkAh",
    "colab_type": "text"
   },
   "source": [
    "## *Экспоненциальное скользящее среднее*\n",
    "*Exponential moving average*"
   ]
  },
  {
   "cell_type": "markdown",
   "metadata": {
    "id": "rgdE0cPCFkGR",
    "colab_type": "text"
   },
   "source": [
    "$$w^{t + 1} = w^t - \\alpha \\cdot EMA_p(\\nabla f)^t$$\n"
   ]
  },
  {
   "cell_type": "markdown",
   "metadata": {
    "id": "F6-aw-pbFkMZ",
    "colab_type": "text"
   },
   "source": [
    "$$EMA_p (f)^t = (1 - p)f^t + p \\cdot EMA_p(f)^{t-1}$$"
   ]
  },
  {
   "cell_type": "markdown",
   "metadata": {
    "id": "CbdW07_sJU1U",
    "colab_type": "text"
   },
   "source": [
    "## **Rprop**"
   ]
  },
  {
   "cell_type": "markdown",
   "metadata": {
    "id": "HUnRvrxhJUuK",
    "colab_type": "text"
   },
   "source": [
    "*Учитывается только знак градиента* \\\\\n",
    "*Идея: расчитывать  learning rate индивидуально для каждого параметра*"
   ]
  },
  {
   "cell_type": "markdown",
   "metadata": {
    "id": "5IcbXvTTJUoZ",
    "colab_type": "text"
   },
   "source": [
    "$$w_i^{t +1} - \\alpha_i^t \\cdot sign(\\nabla f_i(w^t))$$"
   ]
  },
  {
   "cell_type": "markdown",
   "metadata": {
    "id": "puMPttFLJUhG",
    "colab_type": "text"
   },
   "source": [
    "$$\\alpha_i^{t + 1} = \\begin{cases} 1,2 \\cdot \\alpha^t & if & sign(\\nabla f_i(w^t) \\cdot \\nabla f_i (w^{t - 1})) > 0 \\\\\n",
    "0,6 \\cdot \\alpha^t & if & sign(\\nabla f_i(w^t) \\cdot \\nabla f_i (w^{t - 1})) <= 0\\end{cases}$$"
   ]
  },
  {
   "cell_type": "markdown",
   "metadata": {
    "id": "sEBKKwSwFkTS",
    "colab_type": "text"
   },
   "source": [
    "## **RMSProp**\n",
    "*Значение градиента большое $\\rightarrow$ шаг градиента небольшой \\\n",
    "Значение градиента маленькое $\\rightarrow$ шаг градиента большой*"
   ]
  },
  {
   "cell_type": "markdown",
   "metadata": {
    "id": "3cormq4aFkaE",
    "colab_type": "text"
   },
   "source": [
    "$$w_i^{t +1} - \\alpha_i^t \\frac{\\nabla f(w^t)}{\\sqrt{EMA(\\nabla f^2)^t}} $$"
   ]
  },
  {
   "cell_type": "markdown",
   "metadata": {
    "id": "zsxd_RtnFkhr",
    "colab_type": "text"
   },
   "source": [
    "## **Adam**\n",
    "*Оптимальные параметры:* \\\n",
    "$\\alpha = 3\\cdot 10^{-4} \\\\\n",
    " \\beta_1 = 0.9 \\\\\n",
    " \\beta_2 = 0.99$"
   ]
  },
  {
   "cell_type": "markdown",
   "metadata": {
    "id": "pTkbiHHSPeGU",
    "colab_type": "text"
   },
   "source": [
    "$$w^{t + 1} = w^t - \\alpha \\frac{EMA_{\\beta_1}(\\nabla f)^t}{\\sqrt{EMA_{\\beta_2}(\\nabla f^2)^t} + \\varepsilon}$$"
   ]
  }
 ],
 "metadata": {
  "colab": {
   "name": "GradDesc.ipynb",
   "version": "0.3.2",
   "provenance": [],
   "collapsed_sections": []
  },
  "kernelspec": {
   "name": "python3",
   "display_name": "Python 3"
  }
 },
 "nbformat": 4,
 "nbformat_minor": 0
}
